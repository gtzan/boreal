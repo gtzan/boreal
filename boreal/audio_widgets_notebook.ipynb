{
 "cells": [
  {
   "cell_type": "code",
   "execution_count": 1,
   "metadata": {
    "scrolled": true
   },
   "outputs": [],
   "source": [
    "import boreal"
   ]
  },
  {
   "cell_type": "code",
   "execution_count": 2,
   "metadata": {},
   "outputs": [
    {
     "name": "stdout",
     "output_type": "stream",
     "text": [
      "30.0\n",
      "beatles.wav\n",
      "samplerate: 44100 Hz\n",
      "channels: 1\n",
      "duration: 30.000 s\n",
      "format: WAV (Microsoft) [WAV]\n",
      "subtype: Signed 16 bit PCM [PCM_16]\n"
     ]
    },
    {
     "data": {
      "text/plain": [
       "numpy.ndarray"
      ]
     },
     "execution_count": 2,
     "metadata": {},
     "output_type": "execute_result"
    }
   ],
   "source": [
    "import soundfile as sf\n",
    "audio, samplerate = sf.read('beatles.wav')\n",
    "print(sf.info('beatles.wav').duration)\n",
    "print(sf.info('beatles.wav'))\n",
    "# select 4 seconds of audio \n",
    "# audio = audio[:4*44100]\n",
    "from IPython.display import Audio \n",
    "\n",
    "Audio(audio, rate=samplerate)\n",
    "\n",
    "type(audio)\n"
   ]
  },
  {
   "cell_type": "code",
   "execution_count": null,
   "metadata": {},
   "outputs": [],
   "source": [
    "boreal.time_domain_waveform(audio, samplerate)"
   ]
  },
  {
   "cell_type": "code",
   "execution_count": null,
   "metadata": {},
   "outputs": [],
   "source": [
    "# start html audio playback \n",
    "import os\n",
    "import IPython.display as ipd\n",
    "\n",
    "\n",
    "audio_fname = 'beatles.wav'\n",
    "s = '<audio id=\"myaudio\" src=\"' + os.path.basename(audio_fname) + '\" preload=\"auto\"></audio>'\n",
    "ipd.display(ipd.HTML(s))\n",
    "s1 = \"document.getElementById('myaudio').play();\"\n",
    "ipd.display(ipd.Javascript(s1))"
   ]
  },
  {
   "cell_type": "code",
   "execution_count": null,
   "metadata": {},
   "outputs": [],
   "source": [
    "audio_fname = 'beatles.wav'\n",
    "s = '<audio id=\"myaudio\" src=\"' + os.path.basename(audio_fname) + '\" preload=\"auto\"></audio>'\n",
    "print(s)\n",
    "ipd.display(ipd.HTML(s))\n",
    "s1 = \"document.getElementById('myaudio').play();\"\n",
    "ipd.display(ipd.Javascript(s1))\n",
    "print(s1)"
   ]
  },
  {
   "cell_type": "code",
   "execution_count": null,
   "metadata": {},
   "outputs": [],
   "source": [
    "# show a reactive audio spectrum widget \n",
    "boreal.spectrum('beatles.wav', width=800, height=200)"
   ]
  },
  {
   "cell_type": "code",
   "execution_count": null,
   "metadata": {},
   "outputs": [],
   "source": [
    "boreal.spectrum('/Users/george.tzanetakis/data/sound/genres/disco/disco.00001.wav', \n",
    "                prd_jams_file='/Users/george.tzanetakis/data/sound/genres/disco/disco.00001.ground_truth.jams')"
   ]
  },
  {
   "cell_type": "code",
   "execution_count": null,
   "metadata": {},
   "outputs": [],
   "source": [
    "# equivalent command specifying playback_mode as well as potentially more than one widget \n",
    "boreal.render(\"beatles.wav\", playback_mode=\"pyaudio\", widgets=['spectrum'])"
   ]
  },
  {
   "cell_type": "code",
   "execution_count": null,
   "metadata": {},
   "outputs": [],
   "source": [
    "boreal.circulareq('beatles.wav')"
   ]
  },
  {
   "cell_type": "code",
   "execution_count": null,
   "metadata": {},
   "outputs": [],
   "source": [
    "boreal.waveform_envelope('/Users/george.tzanetakis/data/sound/genres/disco/disco.00001.wav', width=800, height=300, \n",
    "                ref_jams_file='/Users/george.tzanetakis/data/sound/genres/disco/disco.00001.ground_truth.jams')"
   ]
  },
  {
   "cell_type": "code",
   "execution_count": null,
   "metadata": {},
   "outputs": [],
   "source": [
    "boreal.centroid('beatles.wav')"
   ]
  },
  {
   "cell_type": "code",
   "execution_count": null,
   "metadata": {},
   "outputs": [],
   "source": [
    "boreal.waveform_envelope('beatles.wav')"
   ]
  },
  {
   "cell_type": "code",
   "execution_count": null,
   "metadata": {
    "scrolled": true
   },
   "outputs": [],
   "source": [
    "boreal.time_waveform(\"beatles.wav\")"
   ]
  },
  {
   "cell_type": "code",
   "execution_count": null,
   "metadata": {
    "scrolled": true
   },
   "outputs": [],
   "source": [
    "# multiple widgets can be specified when using the render function \n",
    "boreal.render(\"beatles.wav\", playback_mode=\"pyaudio\", widgets=['spectrum', 'time_waveform', 'circulareq','waveform_envelope'])\n"
   ]
  },
  {
   "cell_type": "code",
   "execution_count": null,
   "metadata": {},
   "outputs": [],
   "source": [
    "# In systems where PyAudio is not available or when running a remote notebook it is \n",
    "# still possible to play the audio with the html playback_mode. \n",
    "\n",
    "boreal.render(\"beatles.wav\", playback_mode = \"html\", widgets=['time_waveform','spectrum'])\n"
   ]
  },
  {
   "cell_type": "code",
   "execution_count": null,
   "metadata": {},
   "outputs": [],
   "source": [
    "# it is also possible to render numpy arrays with audio samples and a sampling rate \n",
    "# here we read an audio file to an array and then play 3 seconds using all \n",
    "# the available widgets. In order for the bokeh application to run a temporary \n",
    "# deleteme.wav is created and then render_file is called on it. \n",
    "\n",
    "import soundfile as sf\n",
    "audio, samplerate = sf.read('beatles.wav')\n",
    "print(sf.info('beatles.wav').duration)\n",
    "print(sf.info('beatles.wav'))\n",
    "\n",
    "# select 4 seconds of audio \n",
    "audio = audio[:4*44100]\n",
    "type((audio,samplerate))\n",
    "\n",
    "boreal.render((audio, samplerate), widgets=['time_waveform', 'spectrum', 'circulareq'])"
   ]
  },
  {
   "cell_type": "code",
   "execution_count": null,
   "metadata": {},
   "outputs": [],
   "source": [
    "\n",
    "# One explicitly specificying the playback_mode as well as the notebook_url which \n",
    "# will work on remote notebooks \n",
    "# IMPORTANT: You need copy the notebook_url from the browser bar and change the number accordingly\n",
    "\n",
    "boreal.render(\"beatles.wav\", playback_mode='html',widgets=[\"waveform_envelope\"], \n",
    "                           notebook_url=\"localhost:8809\")\n",
    "                                                      "
   ]
  },
  {
   "cell_type": "code",
   "execution_count": null,
   "metadata": {},
   "outputs": [],
   "source": [
    "import panel as pn\n",
    "pn.extension()"
   ]
  },
  {
   "cell_type": "code",
   "execution_count": null,
   "metadata": {},
   "outputs": [],
   "source": [
    "audio.paused = False\n",
    "audio.autoplay = True \n",
    "audio.paused = True\n",
    "audio.autoplay = True\n",
    "print(audio.paused)\n",
    "print(audio.controls())"
   ]
  },
  {
   "cell_type": "code",
   "execution_count": null,
   "metadata": {},
   "outputs": [],
   "source": []
  },
  {
   "cell_type": "code",
   "execution_count": null,
   "metadata": {},
   "outputs": [],
   "source": []
  },
  {
   "cell_type": "code",
   "execution_count": null,
   "metadata": {},
   "outputs": [],
   "source": [
    "import panel as pn\n",
    "import time\n",
    "\n",
    "def play_audio(audio_fname):   \n",
    "    def callback(*events):\n",
    "        for event in events:\n",
    "            if event.name == 'value':\n",
    "                new_time = (event.new / 100.0) * 30.0\n",
    "                audio_perc = int((audio.time / 30.0) * 100.0)\n",
    "                if (abs(event.new - event.old) > 1): \n",
    "                    # info_pane.object = \"NEW:\" + str(event.new)\n",
    "                    audio.time = new_time \n",
    "                    audio.paused = True \n",
    "                    player.pause()\n",
    "            elif event.name == 'direction':\n",
    "                if (event.new == 1): \n",
    "                    audio.paused = False\n",
    "                    audio.autoplay = True \n",
    "                elif (event.new ==0): \n",
    "                    audio.paused = True\n",
    "                    audio.autoplay = True    \n",
    "  \n",
    "    pn.extension()\n",
    "    audio = pn.pane.Audio(audio_fname, name='Audio')\n",
    "    audio.autoplay = False \n",
    "    audio.visible = False\n",
    "    player = pn.widgets.Player(name='Player', start=0, end=100, value=0, loop_policy='once', interval=100)\n",
    "    # info_pane = pn.pane.Markdown(object='INIT')\n",
    "    player.interval = int(30.0 * 1000.0 / 100.0)             \n",
    "    watcher = player.param.watch(callback, ['value','direction'], onlychanged=False)\n",
    "    # display(info_pane)\n",
    "    display(player)\n",
    "    display(audio)\n",
    "    \n",
    "play_audio('beatles.wav')"
   ]
  },
  {
   "cell_type": "code",
   "execution_count": null,
   "metadata": {},
   "outputs": [],
   "source": []
  },
  {
   "cell_type": "code",
   "execution_count": null,
   "metadata": {},
   "outputs": [],
   "source": []
  },
  {
   "cell_type": "code",
   "execution_count": null,
   "metadata": {},
   "outputs": [],
   "source": []
  }
 ],
 "metadata": {
  "kernelspec": {
   "display_name": "Python 3 (ipykernel)",
   "language": "python",
   "name": "python3"
  },
  "language_info": {
   "codemirror_mode": {
    "name": "ipython",
    "version": 3
   },
   "file_extension": ".py",
   "mimetype": "text/x-python",
   "name": "python",
   "nbconvert_exporter": "python",
   "pygments_lexer": "ipython3",
   "version": "3.10.12"
  }
 },
 "nbformat": 4,
 "nbformat_minor": 4
}
