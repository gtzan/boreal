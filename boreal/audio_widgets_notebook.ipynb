{
 "cells": [
  {
   "cell_type": "code",
   "execution_count": null,
   "metadata": {},
   "outputs": [],
   "source": [
    "import boreal"
   ]
  },
  {
   "cell_type": "code",
   "execution_count": null,
   "metadata": {},
   "outputs": [],
   "source": [
    "# show a reactive audio spectrum widget \n",
    "boreal.spectrum('beatles.wav')"
   ]
  },
  {
   "cell_type": "code",
   "execution_count": null,
   "metadata": {},
   "outputs": [],
   "source": [
    "# equivalent command specifying playback_mode as well as potentially more than one widget \n",
    "boreal.render(\"beatles.wav\", playback_mode=\"pyaudio\", widgets=['spectrum'])"
   ]
  },
  {
   "cell_type": "code",
   "execution_count": null,
   "metadata": {},
   "outputs": [],
   "source": [
    "boreal.circulareq('beatles.wav')"
   ]
  },
  {
   "cell_type": "code",
   "execution_count": null,
   "metadata": {
    "scrolled": true
   },
   "outputs": [],
   "source": [
    "boreal.time_waveform(\"beatles.wav\")"
   ]
  },
  {
   "cell_type": "code",
   "execution_count": null,
   "metadata": {
    "scrolled": true
   },
   "outputs": [],
   "source": [
    "# multiple widgets can be specified when using the render function \n",
    "baw.render(\"beatles.wav\", playback_mode=\"pyaudio\", widgets=['spectrum', 'time_waveform', 'circulareq','waveform_envelope'])\n"
   ]
  },
  {
   "cell_type": "code",
   "execution_count": null,
   "metadata": {},
   "outputs": [],
   "source": [
    "# In systems where PyAudio is not available or when running a remote notebook it is \n",
    "# still possible to play the audio with the html playback_mode. \n",
    "\n",
    "boreal.render(\"beatles.wav\", playback_mode = \"html\", widgets=['time_waveform','spectrum'])\n"
   ]
  },
  {
   "cell_type": "code",
   "execution_count": null,
   "metadata": {},
   "outputs": [],
   "source": [
    "# it is also possible to render numpy arrays with audio samples and a sampling rate \n",
    "# here we read an audio file to an array and then play 3 seconds using all \n",
    "# the available widgets. In order for the bokeh application to run a temporary \n",
    "# deleteme.wav is created and then render_file is called on it. \n",
    "\n",
    "import soundfile as sf\n",
    "audio, samplerate = sf.read('beatles.wav')\n",
    "print(sf.info('beatles.wav').duration)\n",
    "print(sf.info('beatles.wav'))\n",
    "\n",
    "# select 4 seconds of audio \n",
    "audio = audio[:4*44100]\n",
    "type((audio,samplerate))\n",
    "\n",
    "boreal.render((audio, samplerate), widgets=['time_waveform', 'spectrum', 'circulareq'])"
   ]
  },
  {
   "cell_type": "code",
   "execution_count": null,
   "metadata": {},
   "outputs": [],
   "source": [
    "\n",
    "# One explicitly specificying the playback_mode as well as the notebook_url which \n",
    "# will work on remote notebooks \n",
    "# IMPORTANT: You need copy the notebook_url from the browser bar and change the number accordingly\n",
    "\n",
    "boreal.render(\"beatles.wav\", playback_mode='html',widgets=[\"waveform_envelope\"], \n",
    "                           notebook_url=\"localhost:8888\")\n",
    "                                                      "
   ]
  },
  {
   "cell_type": "code",
   "execution_count": null,
   "metadata": {},
   "outputs": [],
   "source": []
  },
  {
   "cell_type": "code",
   "execution_count": null,
   "metadata": {},
   "outputs": [],
   "source": []
  }
 ],
 "metadata": {
  "kernelspec": {
   "display_name": "Python 3 (ipykernel)",
   "language": "python",
   "name": "python3"
  },
  "language_info": {
   "codemirror_mode": {
    "name": "ipython",
    "version": 3
   },
   "file_extension": ".py",
   "mimetype": "text/x-python",
   "name": "python",
   "nbconvert_exporter": "python",
   "pygments_lexer": "ipython3",
   "version": "3.9.12"
  }
 },
 "nbformat": 4,
 "nbformat_minor": 2
}
